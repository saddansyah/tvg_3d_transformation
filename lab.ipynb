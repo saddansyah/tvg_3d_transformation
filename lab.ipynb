{
 "cells": [
  {
   "cell_type": "markdown",
   "metadata": {},
   "source": [
    "File ini buat coba2 ya gais sebelum di-implement ke <code>main.py</code>-nya"
   ]
  },
  {
   "cell_type": "code",
   "execution_count": 2,
   "metadata": {},
   "outputs": [],
   "source": [
    "import numpy as np\n",
    "import math"
   ]
  },
  {
   "cell_type": "code",
   "execution_count": 3,
   "metadata": {},
   "outputs": [],
   "source": [
    "def translation(point, tx, ty, tz) -> np.ndarray:\n",
    "    if(len(point) < 4):\n",
    "        point = np.append(point, 1)\n",
    "        \n",
    "    translation_matrix = np.array([[1,0,0,tx],\n",
    "                                  [0,1,0,ty],\n",
    "                                  [0,0,1,tz],\n",
    "                                  [0,0,0,1]])\n",
    "    return translation_matrix @ point \n",
    "\n",
    "def scaling(point, sx, sy, sz) -> np.ndarray:\n",
    "    if(len(point) < 4):\n",
    "        point = np.append(point, 1)\n",
    "\n",
    "    scaling_matrix = np.array([[sx,0,0,0],\n",
    "                               [0,sy,0,0],\n",
    "                               [0,0,sz,0],\n",
    "                               [0,0,0,1]])\n",
    "\n",
    "    # return scaling_matrix @ point\n",
    "    return (scaling_matrix @ point)[:-1] #slicing index terakhir biar hasilnya [x,y,z] instead of [x,y,z,1]\n",
    "\n",
    "def shearxy(point, shx, shy):\n",
    "    if(len(point) < 4):\n",
    "        point = np.append(point, 1)\n",
    "\n",
    "    shearxy_matrix = np.array([[1,0,shx,0],\n",
    "                               [0,1,shy,0],\n",
    "                               [0,0,1,0],\n",
    "                               [0,0,0,1]])\n",
    "    return shearxy_matrix @ point \n",
    "\n",
    "def shearyz(point, shy, shz):\n",
    "    if(len(point) < 4):\n",
    "        point = np.append(point, 1)\n",
    "\n",
    "    shearyz_matrix = np.array([[1,0,0,0],\n",
    "                               [0,shy,0,0],\n",
    "                               [0,shz,1,0],\n",
    "                               [0,0,0,1]])\n",
    "    return shearyz_matrix @ point \n",
    "\n",
    "def shearxz(point, shx, shz):\n",
    "    if(len(point) < 4):\n",
    "        point = np.append(point, 1)\n",
    "\n",
    "    shearxz_matrix = np.array([[shx,0,0,0],\n",
    "                               [0,1,0,0],\n",
    "                               [shz,0,1,0],\n",
    "                               [0,0,0,1]])\n",
    "    return shearxz_matrix @ point\n",
    "\n",
    "def shear(point, sh_factor: list, sh_type):\n",
    "    if(len(point) < 4):\n",
    "        point = np.append(point, 1)\n",
    "\n",
    "    if sh_type == \"xy\":\n",
    "        return shearxy(point, sh_factor[0], sh_factor[1])\n",
    "    elif sh_type == \"yz\":\n",
    "        return shearyz(point, sh_factor[1], sh_factor[2])\n",
    "    elif sh_type == \"xz\":\n",
    "        return shearxz(point, sh_factor[0], sh_factor[2])\n",
    "\n",
    "        "
   ]
  },
  {
   "cell_type": "code",
   "execution_count": 4,
   "metadata": {},
   "outputs": [],
   "source": [
    "test = np.array([1,1,1])"
   ]
  },
  {
   "cell_type": "markdown",
   "metadata": {},
   "source": [
    "##### Scale Test"
   ]
  },
  {
   "cell_type": "code",
   "execution_count": 5,
   "metadata": {},
   "outputs": [
    {
     "name": "stdout",
     "output_type": "stream",
     "text": [
      "[1 2 3]\n"
     ]
    }
   ],
   "source": [
    "print(scaling(test, 1, 2, 3))"
   ]
  },
  {
   "cell_type": "markdown",
   "metadata": {},
   "source": [
    "##### Translate Test"
   ]
  },
  {
   "cell_type": "code",
   "execution_count": 6,
   "metadata": {},
   "outputs": [
    {
     "name": "stdout",
     "output_type": "stream",
     "text": [
      "[2 3 4 1]\n"
     ]
    }
   ],
   "source": [
    "print(translation(test, 1, 2 ,3))"
   ]
  },
  {
   "cell_type": "markdown",
   "metadata": {},
   "source": [
    "##### Shear Test"
   ]
  },
  {
   "cell_type": "code",
   "execution_count": 7,
   "metadata": {},
   "outputs": [
    {
     "name": "stdout",
     "output_type": "stream",
     "text": [
      "<class 'numpy.ndarray'>\n",
      "[3 3 1 1]\n",
      "[1 2 3 1]\n",
      "[2 1 3 1]\n",
      "[3 3 1 1]\n",
      "[1 2 3 1]\n",
      "[2 1 3 1]\n"
     ]
    }
   ],
   "source": [
    "print(type(test))\n",
    "print(shearxy(test, 2, 2))\n",
    "print(shearyz(test, 2, 2))\n",
    "print(shearxz(test, 2, 2))\n",
    "\n",
    "shear_factor = [2,2,2]\n",
    "print(shear(test, shear_factor, \"xy\"))\n",
    "print(shear(test, shear_factor, \"yz\"))\n",
    "print(shear(test, shear_factor, \"xz\"))"
   ]
  },
  {
   "cell_type": "markdown",
   "metadata": {},
   "source": [
    "#### Rotation Matrix"
   ]
  },
  {
   "cell_type": "code",
   "execution_count": null,
   "metadata": {},
   "outputs": [],
   "source": []
  }
 ],
 "metadata": {
  "kernelspec": {
   "display_name": "Python 3",
   "language": "python",
   "name": "python3"
  },
  "language_info": {
   "codemirror_mode": {
    "name": "ipython",
    "version": 3
   },
   "file_extension": ".py",
   "mimetype": "text/x-python",
   "name": "python",
   "nbconvert_exporter": "python",
   "pygments_lexer": "ipython3",
   "version": "3.8.5"
  }
 },
 "nbformat": 4,
 "nbformat_minor": 4
}
